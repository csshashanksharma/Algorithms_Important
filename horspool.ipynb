{
 "cells": [
  {
   "cell_type": "code",
   "execution_count": 7,
   "metadata": {},
   "outputs": [
    {
     "name": "stdout",
     "output_type": "stream",
     "text": [
      "0\n",
      "2\n",
      "ord of pattern of k= 116\n",
      "1\n",
      "1\n",
      "ord of pattern of k= 114\n",
      "a\n",
      "3\n",
      "Pattern found at index 3\n"
     ]
    }
   ],
   "source": [
    "def boyer_moore_horspool(pattern, text):\n",
    "    m = len(pattern) \n",
    "    n = len(text)\n",
    "    \n",
    "    if m > n:\n",
    "        return -1\n",
    "\n",
    "    # Create the bad character shift table\n",
    "    shifttable = []\n",
    "    for k in range(256):\n",
    "        shifttable.append(m)\n",
    "    for k in range(m - 1):\n",
    "        print(k)\n",
    "        shifttable[ord(pattern[k])] = m - k - 1\n",
    "        print(shifttable[ord(pattern[k])])\n",
    "        print(\"ord of pattern of k=\",ord(pattern[k]))\n",
    "\n",
    "    # Perform the search\n",
    "    k = m - 1\n",
    "    while k < n:\n",
    "        j = m - 1\n",
    "        i = k\n",
    "        while j >= 0 and text[i] == pattern[j]:\n",
    "            j -= 1\n",
    "            i -= 1\n",
    "        if j == -1:\n",
    "            return i + 1  # Match found at index i + 1\n",
    "        k += shifttable[ord(text[k])]\n",
    "        print(text[k])\n",
    "        print(shifttable[ord(text[k])])\n",
    "\n",
    "    return -1  # No match found\n",
    "\n",
    "text = \"chitradurga\"\n",
    "pattern = \"tra\"\n",
    "index = boyer_moore_horspool(pattern, text)\n",
    "if index != -1:\n",
    "    print(f\"Pattern found at index {index}\")\n",
    "else:\n",
    "    print(\"Pattern not found\")"
   ]
  },
  {
   "cell_type": "code",
   "execution_count": 8,
   "metadata": {},
   "outputs": [
    {
     "name": "stdout",
     "output_type": "stream",
     "text": [
      "Pattern found at index 3\n"
     ]
    }
   ],
   "source": [
    "def horspool(pattern , text):\n",
    "    n = len(text)\n",
    "    m = len(pattern)\n",
    "\n",
    "    shiftTable = []\n",
    "    for k in range(256):\n",
    "        shiftTable.append(m)\n",
    "    for k in range (m-1):\n",
    "        shiftTable[ord(pattern[k])] = m-k-1\n",
    "    k = m - 1\n",
    "    while (k < n):\n",
    "        j = m - 1 \n",
    "        i = k\n",
    "        while j >= 0 and text[i] == pattern[j]:\n",
    "            j = j - 1\n",
    "            i = i - 1\n",
    "        if j == -1:\n",
    "            return i + 1\n",
    "        k = k + shiftTable[ord(text[k])]\n",
    "    return -1\n",
    "text = \"chitradurga\"\n",
    "pattern = \"tra\"\n",
    "index = horspool(pattern, text)\n",
    "if index != -1:\n",
    "    print(f\"Pattern found at index {index}\")\n",
    "else:\n",
    "    print(\"Pattern not found\")"
   ]
  },
  {
   "cell_type": "code",
   "execution_count": 11,
   "metadata": {},
   "outputs": [
    {
     "name": "stdout",
     "output_type": "stream",
     "text": [
      "6\n"
     ]
    }
   ],
   "source": [
    "def horspool(text , pattern):\n",
    "    n = len(text)\n",
    "    m = len(pattern)\n",
    "\n",
    "    shiftTable = []\n",
    "    for i in range(256):\n",
    "        shiftTable.append(m)\n",
    "    for k in range (m-1):\n",
    "        shiftTable[ord(pattern[k])] = m-k-1\n",
    "    k = m -1 \n",
    "    while k<=n:\n",
    "        j = m - 1\n",
    "        i = k\n",
    "        while j>=0 and text[i] == pattern[j]:\n",
    "            j = j - 1 \n",
    "            i = i - 1\n",
    "        if j == -1:\n",
    "            return i + 1\n",
    "        k = k + shiftTable[ord(text[k])]\n",
    "    return -1\n",
    "text = \"chitradurga\"\n",
    "pattern = \"dur\"\n",
    "result = horspool(text ,pattern)\n",
    "print(result)"
   ]
  },
  {
   "cell_type": "code",
   "execution_count": 15,
   "metadata": {},
   "outputs": [
    {
     "name": "stdout",
     "output_type": "stream",
     "text": [
      "Pattern found at positions: [2, 5]\n"
     ]
    }
   ],
   "source": [
    "def stringMatch(text ,pattern):\n",
    "    n = len(text)\n",
    "    m = len(pattern)\n",
    "    found  = True\n",
    "    result = []\n",
    "    for i in range (n - m +1):\n",
    "        found = True\n",
    "        for j in range (m):\n",
    "            if text[i+j] != pattern[j]:\n",
    "                found = False\n",
    "                break\n",
    "        if found :\n",
    "            result.append(i)\n",
    "    return result \n",
    "text = \"ABCABCABC\"\n",
    "pattern = \"CAB\"\n",
    "matches = stringMatch(text, pattern)\n",
    "print(f\"Pattern found at positions: {matches}\")\n"
   ]
  },
  {
   "cell_type": "code",
   "execution_count": 17,
   "metadata": {},
   "outputs": [
    {
     "name": "stdout",
     "output_type": "stream",
     "text": [
      "[1, 12, 23, 32, 45, 56, 78]\n"
     ]
    }
   ],
   "source": [
    "def heapify (arr , n, i):\n",
    "    largest = i\n",
    "    l = 2*i + 1\n",
    "    r = 2*i + 2\n",
    "    if (l < n and arr[l] > arr[i]):\n",
    "        largest = l\n",
    "    if (r < n and arr[r] > arr[largest]):\n",
    "        largest = r\n",
    "    if largest != i:\n",
    "        arr[i] ,arr[largest] = arr[largest], arr[i]\n",
    "        heapify(arr , n ,largest)\n",
    "def heapSort(arr):\n",
    "    n = len(arr)\n",
    "    for i in range(n//2 , -1 ,-1):\n",
    "        heapify(arr , n, i)\n",
    "    for i in range (n-1 , 0 ,-1):\n",
    "        arr[i] , arr[0] = arr[0] , arr[i]\n",
    "        heapify(arr , i ,0)\n",
    "arr = [45, 78 , 56 , 32 ,23 ,12 , 1]\n",
    "heapSort(arr)\n",
    "print(arr)"
   ]
  },
  {
   "cell_type": "code",
   "execution_count": 19,
   "metadata": {},
   "outputs": [
    {
     "name": "stdout",
     "output_type": "stream",
     "text": [
      "0\n",
      "0\n"
     ]
    }
   ],
   "source": [
    "from collections import deque\n",
    "import numpy as np\n",
    "V = 6\n",
    "adjmatrix = [[0, 1, 1, 0, 0, 0],\n",
    "            [1, 0, 0, 1, 1, 0],\n",
    "            [1, 0, 0, 1, 0, 0],\n",
    "            [0, 1, 1, 0, 0, 1],\n",
    "            [0, 1, 0, 0, 0, 1],\n",
    "            [0, 0, 0, 1, 1, 0]]\n",
    "q = deque()\n",
    "visited = np.zeros(V)\n",
    "q.append(0)\n",
    "visited[0] =  1\n",
    "print(0)\n",
    "while q:\n",
    "    curr = q.popleft()\n",
    "    for j in range(V):\n",
    "        if adjmatrix[curr][j] == 1 and visited[j] == 0:\n",
    "            #print(j)\n",
    "            visited[j] = 1\n",
    "            q.append(j)\n",
    "\n",
    "\n"
   ]
  },
  {
   "cell_type": "code",
   "execution_count": 21,
   "metadata": {},
   "outputs": [
    {
     "name": "stdout",
     "output_type": "stream",
     "text": [
      "0\n",
      "1\n",
      "3\n",
      "2\n",
      "5\n",
      "4\n"
     ]
    }
   ],
   "source": [
    "V = 6\n",
    "adjmatrix = [[0, 1, 1, 0, 0, 0],\n",
    "            [1, 0, 0, 1, 1, 0],\n",
    "            [1, 0, 0, 1, 0, 0],\n",
    "            [0, 1, 1, 0, 0, 1],\n",
    "            [0, 1, 0, 0, 0, 1],\n",
    "            [0, 0, 0, 1, 1, 0]]\n",
    "visited = np.zeros(V)\n",
    "def dfs(i):\n",
    "    visited[i] = 1\n",
    "    print(i)\n",
    "    for j in range (V):\n",
    "        if (adjmatrix[i][j] == 1 and visited[j] != 1):\n",
    "            dfs(j)\n",
    "dfs(0)"
   ]
  },
  {
   "cell_type": "code",
   "execution_count": 25,
   "metadata": {},
   "outputs": [
    {
     "name": "stdout",
     "output_type": "stream",
     "text": [
      "80\n"
     ]
    }
   ],
   "source": [
    "from sys import maxsize\n",
    "from itertools import permutations\n",
    "V = 4\n",
    "def Tsp(graph , s):\n",
    "    vertex = []\n",
    "    for i in range(V):\n",
    "        if i != s:\n",
    "            vertex.append(i)\n",
    "    minPath = maxsize\n",
    "    next_per = permutations(vertex)\n",
    "    for i in next_per :\n",
    "        ct_wt = 0 \n",
    "        k = s\n",
    "        for j in i :\n",
    "            ct_wt = ct_wt + graph[k][j]\n",
    "            k = j\n",
    "        ct_wt = ct_wt + graph[k][s]\n",
    "        minPath = min(minPath , ct_wt)\n",
    "    return minPath\n",
    "if __name__ == \"__main__\":\n",
    "\tgraph = [[0, 10, 15, 20], [10, 0, 35, 25],\n",
    "\t\t\t[15, 35, 0, 30], [20, 25, 30, 0]]\n",
    "\ts = 0\n",
    "\tprint(Tsp(graph, s))\n"
   ]
  },
  {
   "cell_type": "code",
   "execution_count": 29,
   "metadata": {},
   "outputs": [
    {
     "name": "stdout",
     "output_type": "stream",
     "text": [
      "[12, 23, 32, 43, 56, 67, 89]\n"
     ]
    }
   ],
   "source": [
    "def bubbleSort(arr):\n",
    "    n  = len(arr)\n",
    "    for i in range (n):\n",
    "        for j in range (n - i - 1):\n",
    "            if arr[j] > arr[j+1]:\n",
    "                arr[j] , arr[j+1] = arr[j+1] , arr[j]\n",
    "    return arr\n",
    "def selectionSort(arr):\n",
    "    n = len(arr)\n",
    "    for i in range (n):\n",
    "        min_index = i\n",
    "        for j in range(i + 1 , n):\n",
    "            if arr[j] < arr[min_index]:\n",
    "                min_index = j \n",
    "        arr[i], arr[min_index] = arr[min_index] , arr[i]\n",
    "\n",
    "arr = [23,56,43,67,89,32,12]\n",
    "selectionSort(arr)\n",
    "print(arr)"
   ]
  },
  {
   "cell_type": "code",
   "execution_count": 36,
   "metadata": {},
   "outputs": [
    {
     "name": "stdout",
     "output_type": "stream",
     "text": [
      "[12, 23, 32, 43, 56, 67, 89]\n"
     ]
    }
   ],
   "source": [
    "def swap(arr , i , j):\n",
    "    arr[i] , arr[j] = arr[j] , arr[i]\n",
    "def quickSort(arr , low , high):\n",
    "    if (low  < high):\n",
    "        partion_index = partion(arr , low , high)\n",
    "        quickSort(arr , low, partion_index -1)\n",
    "        quickSort(arr , partion_index + 1 , high)\n",
    "def partion(arr, low ,high):\n",
    "    i = low +1 \n",
    "    pivot = arr[low]\n",
    "    j = high \n",
    "    while (i <= j):\n",
    "        if arr[i] <= pivot:\n",
    "            i = i + 1\n",
    "        elif arr[j] > pivot:\n",
    "            j = j - 1\n",
    "        else:\n",
    "            swap(arr, i ,j)\n",
    "    swap(arr,low, j)\n",
    "    return j\n",
    "arr = [23,56,43,67,89,32,12]\n",
    "n = len(arr) - 1\n",
    "quickSort(arr , 0,n)\n",
    "print(arr)"
   ]
  },
  {
   "cell_type": "code",
   "execution_count": 39,
   "metadata": {},
   "outputs": [
    {
     "name": "stdout",
     "output_type": "stream",
     "text": [
      "[12, 23, 32, 43, 56, 67, 89]\n"
     ]
    }
   ],
   "source": [
    "def mergeSort(arr , low ,high):\n",
    "    if low < high : \n",
    "        mid = (low + high)//2\n",
    "        mergeSort(arr ,low ,mid)\n",
    "        mergeSort(arr , mid + 1 , high)\n",
    "        merge(arr , mid , low , high)\n",
    "def merge(arr , mid, low , high):\n",
    "    i = low \n",
    "    j = mid + 1\n",
    "    k = 0\n",
    "    b = [0]*(high - low + 1)\n",
    "    while i <= mid and j <= high:\n",
    "        if arr[i] < arr[j]:\n",
    "            b[k] = arr[i]\n",
    "            k = k + 1\n",
    "            i = i + 1\n",
    "        else:\n",
    "            b[k] = arr[j]\n",
    "            k = k + 1\n",
    "            j = j + 1\n",
    "    while(i <= mid):\n",
    "        b[k] = arr[i]\n",
    "        k = k + 1\n",
    "        i = i + 1\n",
    "    while(j <= high):\n",
    "        b[k] = arr[j]\n",
    "        k = k + 1\n",
    "        j = j + 1\n",
    "    for m in range (len(b)):\n",
    "        arr[m+low] = b[m]\n",
    "\n",
    "arr = [23,56,43,67,89,32,12]\n",
    "n = len(arr) - 1\n",
    "mergeSort(arr , 0,n)\n",
    "print(arr)\n"
   ]
  },
  {
   "cell_type": "code",
   "execution_count": 41,
   "metadata": {},
   "outputs": [
    {
     "name": "stdout",
     "output_type": "stream",
     "text": [
      "2---3 weight = 4\n",
      "0---3 weight = 5\n",
      "0---1 weight = 10\n",
      "Minimum spanning tree cost :\n",
      "19\n"
     ]
    }
   ],
   "source": [
    "class Graph:\n",
    "    def __init__ (self ,Vertices):\n",
    "        self.V = Vertices\n",
    "        self.graph = []\n",
    "\n",
    "    def addEdge(self,u,v,w):\n",
    "        self.graph.append([u,v,w])\n",
    "    def find (self ,parent , i):\n",
    "        if parent[i] != i :\n",
    "            parent[i] = self.find(parent ,parent[i])\n",
    "        return parent[i]\n",
    "    def union (self,parent, rank ,x, y):\n",
    "        if rank[x] < rank[y]:\n",
    "            parent[x] = y\n",
    "        elif rank[y] < rank[x]:\n",
    "            parent[y] = x\n",
    "        else:\n",
    "            parent[y] = x\n",
    "            rank[x] = rank[x] + 1\n",
    "\n",
    "    def KrukalMst(self):\n",
    "        e = 0\n",
    "        i = 0\n",
    "        parent = []\n",
    "        rank = []\n",
    "        result = []\n",
    "        for node in range(self.V):\n",
    "            parent.append(node)\n",
    "            rank.append(0)\n",
    "        self.graph = sorted(self.graph  ,key = lambda item : item[2])\n",
    "        while e < self.V-1:\n",
    "            u,v,w = self.graph[i]\n",
    "            i = i + 1\n",
    "            x = self.find(parent, u)        \n",
    "            y = self.find(parent,v)\n",
    "\n",
    "            if x != y:\n",
    "                e = e + 1\n",
    "                result.append([u,v,w])\n",
    "                self.union(parent , rank ,x, y)\n",
    "        minCost = 0\n",
    "        for u,v,w in result:\n",
    "            print(f\"{u}---{v} weight = {w}\")\n",
    "            minCost = minCost + w\n",
    "        print(\"Minimum spanning tree cost :\")\n",
    "        print(minCost)\n",
    "\n",
    "if __name__ == '__main__':\n",
    "    g = Graph(4) \n",
    "    g.addEdge(0, 1, 10) \n",
    "    g.addEdge(0, 2, 6) \n",
    "    g.addEdge(0, 3, 5) \n",
    "    g.addEdge(1, 3, 15) \n",
    "    g.addEdge(2, 3, 4) \n",
    "    g.KrukalMst()\n",
    "\n"
   ]
  },
  {
   "cell_type": "code",
   "execution_count": 43,
   "metadata": {},
   "outputs": [
    {
     "name": "stdout",
     "output_type": "stream",
     "text": [
      "0--> 1 cost : 2\n",
      "1--> 2 cost : 3\n",
      "0--> 3 cost : 6\n",
      "1--> 4 cost : 5\n"
     ]
    }
   ],
   "source": [
    "class Graph :\n",
    "    def __init__ (self ,Vertices):\n",
    "        self.V = Vertices\n",
    "        self.graph = [[0 for row in range (self.V)]for column in range (self.V)]\n",
    "\n",
    "    def printMst(self , parent):\n",
    "        for i in range(1,self.V):\n",
    "            print(f\"{parent[i]}--> {i} cost : {self.graph[i][parent[i]]}\")\n",
    "    def minKey(self ,key ,minSet):\n",
    "        min = float ('inf')\n",
    "        min_index = -1\n",
    "        for i in range(self.V):\n",
    "            if key[i] < min and not minSet[i] :\n",
    "                min = key[i]\n",
    "                min_index = i\n",
    "        return min_index\n",
    "    def primsMst(self):\n",
    "        parent = [None]*self.V\n",
    "        parent [0] = -1\n",
    "        key = [float('inf')]*self.V\n",
    "        key[0] = 0\n",
    "        minSet = [False] * self.V\n",
    "        for i in range (self.V):\n",
    "            u = self.minKey(key ,minSet)\n",
    "            minSet[u] = True \n",
    "            for v in range(self.V):\n",
    "                if self.graph[u][v]  > 0 and not minSet[v] and self.graph[u][v] < key[v] :\n",
    "                    key[v] = self.graph[u][v]\n",
    "                    parent[v] = u\n",
    "        self.printMst(parent)\n",
    "if __name__ == '__main__':\n",
    "    g = Graph(5)\n",
    "    g.graph = [[0, 2, 0, 6, 0],\n",
    "            [2, 0, 3, 8, 5],\n",
    "            [0, 3, 0, 0, 7],\n",
    "            [6, 8, 0, 0, 9],\n",
    "            [0, 5, 7, 9, 0]]\n",
    "\n",
    "g.primsMst()\n"
   ]
  },
  {
   "cell_type": "code",
   "execution_count": 45,
   "metadata": {},
   "outputs": [
    {
     "name": "stdout",
     "output_type": "stream",
     "text": [
      "0 -- 0\n",
      "1 -- 4\n",
      "2 -- 12\n",
      "3 -- 19\n",
      "4 -- 21\n",
      "5 -- 11\n",
      "6 -- 9\n",
      "7 -- 8\n",
      "8 -- 14\n"
     ]
    }
   ],
   "source": [
    "class Graph :\n",
    "    def __init__ (self,Vertices):\n",
    "        self.V = Vertices\n",
    "        self.graph = [[0 for row in range(self.V)]for column in range(self.V)]\n",
    "    def printMst(self , dist):\n",
    "        for i in range (self.V):\n",
    "            print(f\"{i} -- {dist[i]}\")\n",
    "    def minKey(self,dist,minSet):\n",
    "        min = float('inf')\n",
    "        min_index = -1\n",
    "        for i in range(self.V):\n",
    "            if dist[i] < min and not minSet[i]:\n",
    "                min = dist[i]\n",
    "                min_index = i\n",
    "        return min_index\n",
    "\n",
    "    def dijkstraMst(self):\n",
    "        dist = [float('inf')]*self.V\n",
    "        dist[0] = 0\n",
    "        minSet = [False]*self.V \n",
    "        for i in range(self.V):\n",
    "            u = self.minKey(dist , minSet)\n",
    "            minSet[u] = True\n",
    "            for v in range (self.V):\n",
    "                if self.graph[u][v] > 0 and not minSet[v] and self.graph[u][v] + dist[u] < dist[v]:\n",
    "                    dist[v] = self.graph[u][v] + dist[u]\n",
    "        self.printMst(dist)\n",
    "if __name__ == '__main__':\n",
    "    g = Graph(9)\n",
    "    g.graph = [[0, 4, 0, 0, 0, 0, 0, 8, 0],\n",
    "           [4, 0, 8, 0, 0, 0, 0, 11, 0],\n",
    "           [0, 8, 0, 7, 0, 4, 0, 0, 2],\n",
    "           [0, 0, 7, 0, 9, 14, 0, 0, 0],\n",
    "           [0, 0, 0, 9, 0, 10, 0, 0, 0],\n",
    "           [0, 0, 4, 14, 10, 0, 2, 0, 0],\n",
    "           [0, 0, 0, 0, 0, 2, 0, 1, 6],\n",
    "           [8, 11, 0, 0, 0, 0, 1, 0, 7],\n",
    "           [0, 0, 2, 0, 0, 0, 6, 7, 0]\n",
    "           ]\n",
    "    g.dijkstraMst()"
   ]
  },
  {
   "cell_type": "code",
   "execution_count": 47,
   "metadata": {},
   "outputs": [
    {
     "name": "stdout",
     "output_type": "stream",
     "text": [
      "0 3 7 5 \n",
      "2 0 6 4 \n",
      "3 1 0 5 \n",
      "5 3 2 0 \n"
     ]
    }
   ],
   "source": [
    "INF = float('inf')\n",
    "V = 4\n",
    "def create_dist_matrix(A):\n",
    "    n = len(A)\n",
    "    D = [[0 if i == j else INF if A[i][j] == 0 else A[i][j] for j in range(n)] for i in range(n)]\n",
    "    return D\n",
    "\n",
    "def floyd (adjmatrix):\n",
    "    dist = create_dist_matrix(adjmatrix)\n",
    "    for k in range (V):\n",
    "        for i in range(V):\n",
    "            for j in range(V): \n",
    "                dist[i][j] = min(dist[i][j] , dist[i][k] + dist[k][j])\n",
    "    printAns(dist)\n",
    "\n",
    "def printAns(dist):\n",
    "    for i in range (V):\n",
    "        for j in range(V):\n",
    "            if dist[i][j] == INF:\n",
    "                print(\"INF\" , end = \" \")\n",
    "            else:\n",
    "                print(dist[i][j] , end = \" \")\n",
    "        print(\"\")\n",
    "adj_matrix = [  \n",
    "    [0, 3, 0, 5],  \n",
    "    [2, 0, 0, 4],  \n",
    "    [0, 1, 0, 0],  \n",
    "    [0, 0, 2, 0]  \n",
    "]\n",
    "floyd(adj_matrix)"
   ]
  },
  {
   "cell_type": "code",
   "execution_count": null,
   "metadata": {},
   "outputs": [],
   "source": []
  }
 ],
 "metadata": {
  "kernelspec": {
   "display_name": "Python 3",
   "language": "python",
   "name": "python3"
  },
  "language_info": {
   "codemirror_mode": {
    "name": "ipython",
    "version": 3
   },
   "file_extension": ".py",
   "mimetype": "text/x-python",
   "name": "python",
   "nbconvert_exporter": "python",
   "pygments_lexer": "ipython3",
   "version": "3.10.12"
  }
 },
 "nbformat": 4,
 "nbformat_minor": 2
}
