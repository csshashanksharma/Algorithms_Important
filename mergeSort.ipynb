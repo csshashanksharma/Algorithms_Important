{
 "cells": [
  {
   "cell_type": "code",
   "execution_count": 10,
   "metadata": {},
   "outputs": [
    {
     "name": "stdout",
     "output_type": "stream",
     "text": [
      "[1, 2, 23, 30, 45, 67, 98]\n"
     ]
    }
   ],
   "source": [
    "def mergeSort(arr , low ,high):\n",
    "    if low < high :\n",
    "        mid = (low+high)//2\n",
    "        mergeSort(arr, low, mid)\n",
    "        mergeSort(arr,mid+1, high)\n",
    "        merge(arr,mid,low,high)\n",
    "def merge(a,mid,low,high):\n",
    "    i = low\n",
    "    j = mid+1\n",
    "    k = 0 \n",
    "    b = [0]*(high-low+1)\n",
    "    while(i <= mid and j <= high):\n",
    "        if (a[i] < a[j]):\n",
    "            b[k] = a[i]\n",
    "            k = k+1\n",
    "            i = i+1\n",
    "        else:\n",
    "            b[k] = a[j]\n",
    "            k = k+1\n",
    "            j = j+1\n",
    "    while(i<=mid):\n",
    "        b[k] = a[i]\n",
    "        k= k+1\n",
    "        i = i+1\n",
    "    while(j <= high):\n",
    "        b[k] = a[j]\n",
    "        k = k+1\n",
    "        j = j+1\n",
    "    for m in range(len(b)):\n",
    "        a[low+m] = b[m]\n",
    "arr = [23,45,1,2,30,67,98]\n",
    "n = len(arr)-1\n",
    "mergeSort(arr,0,n)\n",
    "print(arr)"
   ]
  },
  {
   "cell_type": "code",
   "execution_count": null,
   "metadata": {},
   "outputs": [],
   "source": []
  }
 ],
 "metadata": {
  "kernelspec": {
   "display_name": "Python 3",
   "language": "python",
   "name": "python3"
  },
  "language_info": {
   "codemirror_mode": {
    "name": "ipython",
    "version": 3
   },
   "file_extension": ".py",
   "mimetype": "text/x-python",
   "name": "python",
   "nbconvert_exporter": "python",
   "pygments_lexer": "ipython3",
   "version": "3.10.12"
  }
 },
 "nbformat": 4,
 "nbformat_minor": 2
}
