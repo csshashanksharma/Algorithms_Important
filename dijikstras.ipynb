{
 "cells": [
  {
   "cell_type": "code",
   "execution_count": 1,
   "metadata": {},
   "outputs": [
    {
     "name": "stdout",
     "output_type": "stream",
     "text": [
      "0 --> 0\n",
      "1 --> 4\n",
      "2 --> 12\n",
      "3 --> 19\n",
      "4 --> 21\n",
      "5 --> 11\n",
      "6 --> 9\n",
      "7 --> 8\n",
      "8 --> 14\n"
     ]
    }
   ],
   "source": [
    "class Graph:\n",
    "    def __init__ (self, Vertices):\n",
    "        self.V = Vertices\n",
    "        self.graph = [[0 for row in range(self.V)] for colomn in range(self.V)]\n",
    "    \n",
    "    def minDist(self, dist , sptSet):\n",
    "        min = float('inf')\n",
    "        min_index = -1\n",
    "        for i in range (self.V):\n",
    "            if(dist[i] < min and not sptSet[i]):\n",
    "                min = dist[i]\n",
    "                min_index = i\n",
    "        return min_index\n",
    "    def printSolution (self, dist):\n",
    "        for i in range (self.V ):\n",
    "            print(f\"{i} --> {dist[i]}\")\n",
    "    \n",
    "    def dijkstraMst(self):\n",
    "        sptSet = [False]*self.V\n",
    "        dist = [float('inf')] * self.V\n",
    "        dist[0] = 0\n",
    "\n",
    "        for i in range (self.V):\n",
    "            u = self.minDist(dist , sptSet)\n",
    "            sptSet[u] = True\n",
    "\n",
    "            for v in range(self.V):\n",
    "                if (self.graph[u][v] > 0 and not sptSet[v] and dist[u] + self.graph[u][v] < dist[v]):\n",
    "                    dist[v] = self.graph[u][v] + dist[u]\n",
    "    \n",
    "        self.printSolution(dist)\n",
    "if __name__ == '__main__':\n",
    "        g = Graph(9)\n",
    "        g.graph = [[0, 4, 0, 0, 0, 0, 0, 8, 0],\n",
    "            [4, 0, 8, 0, 0, 0, 0, 11, 0],\n",
    "            [0, 8, 0, 7, 0, 4, 0, 0, 2],\n",
    "            [0, 0, 7, 0, 9, 14, 0, 0, 0],\n",
    "            [0, 0, 0, 9, 0, 10, 0, 0, 0],\n",
    "            [0, 0, 4, 14, 10, 0, 2, 0, 0],\n",
    "            [0, 0, 0, 0, 0, 2, 0, 1, 6],\n",
    "            [8, 11, 0, 0, 0, 0, 1, 0, 7],\n",
    "            [0, 0, 2, 0, 0, 0, 6, 7, 0]\n",
    "            ]\n",
    "        g.dijkstraMst()"
   ]
  },
  {
   "cell_type": "code",
   "execution_count": 3,
   "metadata": {},
   "outputs": [
    {
     "name": "stdout",
     "output_type": "stream",
     "text": [
      "0 --> 0\n",
      "1 --> 4\n",
      "2 --> 12\n",
      "3 --> 19\n",
      "4 --> 21\n",
      "5 --> 11\n",
      "6 --> 9\n",
      "7 --> 8\n",
      "8 --> 14\n"
     ]
    }
   ],
   "source": [
    "class Graph:\n",
    "    def __init__ (self , Vertices):\n",
    "        self.V = Vertices\n",
    "        self.graph = [[0 for row in range(self.V)] for column in range(self.V)]\n",
    "\n",
    "    def printMst(self,dist):\n",
    "        for i in range (self.V):\n",
    "            print(f\"{i} --> {dist[i]}\")\n",
    "\n",
    "    def minKey(self,dist,minSet):\n",
    "        min = float('inf')\n",
    "        min_index = -1\n",
    "        for i in range(self.V):\n",
    "            if dist[i] < min and not minSet[i]:\n",
    "                min = dist[i]\n",
    "                min_index = i\n",
    "        return min_index\n",
    "    \n",
    "    def dijkstraMst(self):\n",
    "        dist = [float('inf')] * self.V\n",
    "        dist[0] = 0\n",
    "        minSet = [False] * self.V\n",
    "\n",
    "        for _ in range(self.V):\n",
    "            u = self.minKey(dist , minSet)\n",
    "            minSet[u] = True\n",
    "            for v in range (self.V):\n",
    "                if self.graph[u][v] > 0 and not minSet[v] and dist[u] + self.graph[u][v] < dist[v] :\n",
    "                    dist[v] = dist[u] + self.graph[u][v]\n",
    "        self.printMst(dist)\n",
    "\n",
    "if __name__ == '__main__':\n",
    "    g = Graph(9)\n",
    "    g.graph = [[0, 4, 0, 0, 0, 0, 0, 8, 0],\n",
    "           [4, 0, 8, 0, 0, 0, 0, 11, 0],\n",
    "           [0, 8, 0, 7, 0, 4, 0, 0, 2],\n",
    "           [0, 0, 7, 0, 9, 14, 0, 0, 0],\n",
    "           [0, 0, 0, 9, 0, 10, 0, 0, 0],\n",
    "           [0, 0, 4, 14, 10, 0, 2, 0, 0],\n",
    "           [0, 0, 0, 0, 0, 2, 0, 1, 6],\n",
    "           [8, 11, 0, 0, 0, 0, 1, 0, 7],\n",
    "           [0, 0, 2, 0, 0, 0, 6, 7, 0]\n",
    "           ]\n",
    "    g.dijkstraMst()"
   ]
  },
  {
   "cell_type": "code",
   "execution_count": null,
   "metadata": {},
   "outputs": [],
   "source": []
  }
 ],
 "metadata": {
  "kernelspec": {
   "display_name": "Python 3",
   "language": "python",
   "name": "python3"
  },
  "language_info": {
   "codemirror_mode": {
    "name": "ipython",
    "version": 3
   },
   "file_extension": ".py",
   "mimetype": "text/x-python",
   "name": "python",
   "nbconvert_exporter": "python",
   "pygments_lexer": "ipython3",
   "version": "3.10.12"
  }
 },
 "nbformat": 4,
 "nbformat_minor": 2
}
