{
 "cells": [
  {
   "cell_type": "code",
   "execution_count": 4,
   "metadata": {},
   "outputs": [
    {
     "name": "stdout",
     "output_type": "stream",
     "text": [
      "Time Taken : 0.0004887580871582031\n",
      "Space Complexity : O(1)\n",
      "Time Complexity : O(n^2)\n"
     ]
    }
   ],
   "source": [
    "import time \n",
    "import random\n",
    "def bubbleSort(arr):\n",
    "    n = len(arr)\n",
    "    for i in range (n):\n",
    "        for j in range (0,n-i-1):\n",
    "            if arr[j] > arr[j+1]:\n",
    "                arr[j],arr[j+1] = arr[j+1] , arr[j]\n",
    "def measure_time(arr):\n",
    "    start = time.time()\n",
    "    bubbleSort(arr)\n",
    "    end = time.time()\n",
    "    return end - start\n",
    "if __name__ == \"__main__\":\n",
    "    n = 100\n",
    "    arr = [random.randint(0,1000) for _ in range (n)]\n",
    "    timeT = measure_time(arr)\n",
    "    print(f\"Time Taken : {timeT}\")\n",
    "    print(\"Space Complexity : O(1)\")\n",
    "    print(\"Time Complexity : O(n^2)\")"
   ]
  },
  {
   "cell_type": "code",
   "execution_count": null,
   "metadata": {},
   "outputs": [],
   "source": []
  }
 ],
 "metadata": {
  "kernelspec": {
   "display_name": "Python 3",
   "language": "python",
   "name": "python3"
  },
  "language_info": {
   "codemirror_mode": {
    "name": "ipython",
    "version": 3
   },
   "file_extension": ".py",
   "mimetype": "text/x-python",
   "name": "python",
   "nbconvert_exporter": "python",
   "pygments_lexer": "ipython3",
   "version": "3.10.12"
  }
 },
 "nbformat": 4,
 "nbformat_minor": 2
}
