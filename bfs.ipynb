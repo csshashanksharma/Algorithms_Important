{
 "cells": [
  {
   "cell_type": "code",
   "execution_count": 11,
   "metadata": {},
   "outputs": [
    {
     "name": "stdout",
     "output_type": "stream",
     "text": [
      "0\n",
      "1\n",
      "2\n",
      "3\n",
      "4\n",
      "5\n"
     ]
    }
   ],
   "source": [
    "from collections import deque\n",
    "import numpy as np\n",
    "def main():\n",
    "    V = 6\n",
    "    adjmatrix = [[0, 1, 1, 0, 0, 0],\n",
    "             [1, 0, 0, 1, 1, 0],\n",
    "             [1, 0, 0, 1, 0, 0],\n",
    "             [0, 1, 1, 0, 0, 1],\n",
    "             [0, 1, 0, 0, 0, 1],\n",
    "             [0, 0, 0, 1, 1, 0]]\n",
    "\n",
    "    visited = np.zeros(V)\n",
    "    q = deque()\n",
    "    q.append(0)\n",
    "    visited[0] = 1\n",
    "    print(0)\n",
    "    while q:\n",
    "        curr = q.popleft()\n",
    "        for i in range (V):\n",
    "            if (adjmatrix[curr][i] == 1 and visited[i] == 0):\n",
    "                print(i)\n",
    "                visited[i] = 1\n",
    "                q.append(i)\n",
    "main()\n"
   ]
  },
  {
   "cell_type": "code",
   "execution_count": 14,
   "metadata": {},
   "outputs": [
    {
     "name": "stdout",
     "output_type": "stream",
     "text": [
      "0\n",
      "1\n",
      "3\n",
      "2\n",
      "5\n",
      "4\n"
     ]
    }
   ],
   "source": [
    "V = 6\n",
    "adjmatrix = [[0, 1, 1, 0, 0, 0],\n",
    "            [1, 0, 0, 1, 1, 0],\n",
    "            [1, 0, 0, 1, 0, 0],\n",
    "            [0, 1, 1, 0, 0, 1],\n",
    "            [0, 1, 0, 0, 0, 1],\n",
    "            [0, 0, 0, 1, 1, 0]]\n",
    "visited = np.zeros(V)\n",
    "def dfs (i):\n",
    "    visited[i] = 1\n",
    "    print(i)\n",
    "    for j in range (V):\n",
    "        if (adjmatrix[i][j] == 1 and visited[j] != 1):\n",
    "            dfs(j)\n",
    "dfs(0)"
   ]
  }
 ],
 "metadata": {
  "kernelspec": {
   "display_name": "Python 3",
   "language": "python",
   "name": "python3"
  },
  "language_info": {
   "codemirror_mode": {
    "name": "ipython",
    "version": 3
   },
   "file_extension": ".py",
   "mimetype": "text/x-python",
   "name": "python",
   "nbconvert_exporter": "python",
   "pygments_lexer": "ipython3",
   "version": "3.10.12"
  }
 },
 "nbformat": 4,
 "nbformat_minor": 2
}
