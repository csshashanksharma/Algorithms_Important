{
 "cells": [
  {
   "cell_type": "code",
   "execution_count": 9,
   "metadata": {},
   "outputs": [
    {
     "name": "stdout",
     "output_type": "stream",
     "text": [
      "0 -- 1  = 2\n",
      "1 -- 2  = 3\n",
      "0 -- 3  = 6\n",
      "1 -- 4  = 5\n"
     ]
    }
   ],
   "source": [
    "class Graph:\n",
    "    def __init__ (self, vertices):\n",
    "        self.V = vertices\n",
    "        self.graph = [[0 for column in range(vertices)] for row in range(vertices)]\n",
    "        \n",
    "\n",
    "    def printMst(self,parent):\n",
    "        for i in range (1,self.V):\n",
    "            print(f\"{parent[i]} -- {i}  = {self.graph[i][parent[i]]}\")\n",
    "    def minKey(self,minSet , key):\n",
    "        min = float('inf')\n",
    "        min_index = -1 \n",
    "        for i in range (self.V):\n",
    "            if (key[i] < min and not minSet[i]):\n",
    "                min = key[i]\n",
    "                min_index = i\n",
    "\n",
    "        return min_index\n",
    "\n",
    "    def primMst (self):\n",
    "        parent = [None] *self.V\n",
    "        parent[0] = -1\n",
    "        key = [float('inf')] * self.V\n",
    "        key[0] = 0\n",
    "        minSet = [False] * self.V\n",
    "\n",
    "        for c in range (self.V):\n",
    "            u =  self.minKey(minSet , key)\n",
    "            minSet[u] = True\n",
    "\n",
    "            for v in range(self.V):\n",
    "                if (self.graph[u][v] > 0 and not minSet[v] and self.graph[u][v] < key[v]):\n",
    "                    key[v] = self.graph[u][v]\n",
    "                    parent[v] = u\n",
    "\n",
    "        self.printMst(parent)\n",
    "    \n",
    "if __name__ == '__main__':\n",
    "    g = Graph(5)\n",
    "    g.graph = [[0, 2, 0, 6, 0],\n",
    "            [2, 0, 3, 8, 5],\n",
    "            [0, 3, 0, 0, 7],\n",
    "            [6, 8, 0, 0, 9],\n",
    "            [0, 5, 7, 9, 0]]\n",
    "\n",
    "g.primMst()\n"
   ]
  },
  {
   "cell_type": "code",
   "execution_count": 16,
   "metadata": {},
   "outputs": [
    {
     "name": "stdout",
     "output_type": "stream",
     "text": [
      "3 --> 1 cost : 8\n",
      "3 --> 2 cost : 6\n",
      "0 --> 3 cost : 3\n"
     ]
    }
   ],
   "source": [
    "class Graph:\n",
    "    def __init__ (self,Vertices):\n",
    "        self.V = Vertices\n",
    "        self.graph = [[0 for row in range(self.V)] for column in range(self.V)]\n",
    "    def printMst(self, parent ):\n",
    "        for i in range (1,self.V):\n",
    "            print(f\"{parent[i]} --> {i} cost : {self.graph[parent[i]][i]}\")\n",
    "    def minKey(self, key , minSet):\n",
    "        min = float('inf')\n",
    "        min_index = -1\n",
    "        for i in range(self.V):\n",
    "            if key[i] < min and not minSet[i]:\n",
    "                min = key[i]\n",
    "                min_index = i\n",
    "        return min_index\n",
    "    def primsMst (self):\n",
    "        parent = [None] *self.V\n",
    "        parent[0] = -1\n",
    "        key = [float('inf')]*self.V\n",
    "        key[0] = 0\n",
    "        minSet = [False] * self.V\n",
    "        \n",
    "        for _ in range(self.V):\n",
    "            u = self.minKey(key ,minSet)\n",
    "            minSet[u] = True \n",
    "            for v in range(self.V):\n",
    "                if self.graph[u][v] > 0 and not minSet[v] and self.graph[u][v] < key[v]:\n",
    "                    key[v] = self.graph[u][v]\n",
    "                    parent[v] = u\n",
    "        self.printMst(parent)\n",
    "if __name__ == '__main__':\n",
    "    g = Graph(4)\n",
    "    g.graph = [[0,10,7,3],\n",
    "               [10,0,0,8],\n",
    "               [7,0,0,6],\n",
    "               [3,8,6,0]]\n",
    "    g.primsMst()"
   ]
  },
  {
   "cell_type": "code",
   "execution_count": null,
   "metadata": {},
   "outputs": [],
   "source": []
  }
 ],
 "metadata": {
  "kernelspec": {
   "display_name": "Python 3",
   "language": "python",
   "name": "python3"
  },
  "language_info": {
   "codemirror_mode": {
    "name": "ipython",
    "version": 3
   },
   "file_extension": ".py",
   "mimetype": "text/x-python",
   "name": "python",
   "nbconvert_exporter": "python",
   "pygments_lexer": "ipython3",
   "version": "3.10.12"
  }
 },
 "nbformat": 4,
 "nbformat_minor": 2
}
