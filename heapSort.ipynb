{
 "cells": [
  {
   "cell_type": "code",
   "execution_count": 3,
   "metadata": {},
   "outputs": [
    {
     "name": "stdout",
     "output_type": "stream",
     "text": [
      "2\n",
      "14\n",
      "23\n",
      "34\n",
      "51\n",
      "56\n"
     ]
    }
   ],
   "source": [
    "def heapify(arr , n , i):\n",
    "    largest = i\n",
    "    l = 2*i + 1\n",
    "    r = 2*i + 2\n",
    "    if (l < n and arr[i] < arr[l]):\n",
    "        largest = l\n",
    "    if (r < n and arr[largest] < arr[r]):\n",
    "        largest = r\n",
    "    if largest != i:\n",
    "        arr[i] , arr[largest] = arr[largest] , arr[i]\n",
    "        heapify(arr , n , largest)\n",
    "def heapSort(arr):\n",
    "    n = len(arr)\n",
    "    for i in range(n//2,-1,-1):\n",
    "        heapify(arr, n, i)\n",
    "    for i in range(n-1 , 0 , -1):\n",
    "        arr[i] , arr[0] = arr[0] , arr[i]\n",
    "        heapify(arr, i , 0)\n",
    "\n",
    "arr = [2,56,23,14,51,34]\n",
    "n = len(arr)\n",
    "heapSort(arr)\n",
    "for i in range (n):\n",
    "    print(arr[i])"
   ]
  },
  {
   "cell_type": "code",
   "execution_count": 1,
   "metadata": {},
   "outputs": [
    {
     "name": "stdout",
     "output_type": "stream",
     "text": [
      "[1, 23, 43, 65, 78, 99]\n"
     ]
    }
   ],
   "source": [
    "def heapify(arr ,n ,i):\n",
    "    largest = i\n",
    "    l = 2*i + 1\n",
    "    r = 2*i + 2\n",
    "    if (l < n and arr[i] < arr[l]):\n",
    "        largest = l\n",
    "    if (r < n and arr[largest] < arr[r]):\n",
    "        largest = r\n",
    "    if largest != i :\n",
    "        arr[i],arr[largest] = arr[largest] ,arr[i]\n",
    "        heapify(arr , n, largest)\n",
    "def  heapSort(arr):\n",
    "    n = len(arr)\n",
    "    for i in range(n//2 , -1 ,-1):\n",
    "        heapify(arr ,n,i)\n",
    "    for i in range(n-1 , 0 , -1):\n",
    "        arr[i] , arr[0] = arr[0] , arr[i]\n",
    "        heapify(arr , i , 0)\n",
    "arr = [23,43,65,1,78,99]\n",
    "heapSort(arr)\n",
    "print(arr)"
   ]
  },
  {
   "cell_type": "code",
   "execution_count": null,
   "metadata": {},
   "outputs": [],
   "source": []
  }
 ],
 "metadata": {
  "kernelspec": {
   "display_name": "Python 3",
   "language": "python",
   "name": "python3"
  },
  "language_info": {
   "codemirror_mode": {
    "name": "ipython",
    "version": 3
   },
   "file_extension": ".py",
   "mimetype": "text/x-python",
   "name": "python",
   "nbconvert_exporter": "python",
   "pygments_lexer": "ipython3",
   "version": "3.10.12"
  }
 },
 "nbformat": 4,
 "nbformat_minor": 2
}
