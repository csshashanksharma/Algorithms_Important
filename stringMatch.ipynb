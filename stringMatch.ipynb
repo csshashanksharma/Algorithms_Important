{
 "cells": [
  {
   "cell_type": "code",
   "execution_count": 5,
   "metadata": {},
   "outputs": [
    {
     "name": "stdout",
     "output_type": "stream",
     "text": [
      "Pattern found at positions: [2, 5]\n"
     ]
    }
   ],
   "source": [
    "def stringMatch(str, substr):\n",
    "    n = len(str)\n",
    "    m = len(substr)\n",
    "    result = []\n",
    "    found = True\n",
    "    for i in range (n-m+1):\n",
    "        found = True\n",
    "        for j in range (m):\n",
    "            if(str[i+j] != substr[j]):\n",
    "                found = False\n",
    "                break\n",
    "        if found :\n",
    "            result.append(i)\n",
    "    return result   \n",
    "text = \"ABCABCABC\"\n",
    "pattern = \"CAB\"\n",
    "matches = stringMatch(text, pattern)\n",
    "print(f\"Pattern found at positions: {matches}\")\n"
   ]
  },
  {
   "cell_type": "code",
   "execution_count": null,
   "metadata": {},
   "outputs": [],
   "source": []
  }
 ],
 "metadata": {
  "kernelspec": {
   "display_name": "Python 3",
   "language": "python",
   "name": "python3"
  },
  "language_info": {
   "codemirror_mode": {
    "name": "ipython",
    "version": 3
   },
   "file_extension": ".py",
   "mimetype": "text/x-python",
   "name": "python",
   "nbconvert_exporter": "python",
   "pygments_lexer": "ipython3",
   "version": "3.10.12"
  }
 },
 "nbformat": 4,
 "nbformat_minor": 2
}
