{
 "cells": [
  {
   "cell_type": "code",
   "execution_count": 11,
   "metadata": {},
   "outputs": [
    {
     "name": "stdout",
     "output_type": "stream",
     "text": [
      "[1, 2, 23, 30, 45, 67, 98]\n"
     ]
    }
   ],
   "source": [
    "def quickSort(arr,low,high):\n",
    "    if low <= high :\n",
    "        partition_index = partion(arr,low,high)\n",
    "        quickSort(arr,low,partition_index-1)\n",
    "        quickSort(arr,partition_index+1,high)\n",
    "def swap(a,i,j):\n",
    "    a[i],a[j] = a[j] ,a[i]\n",
    "def partion(arr , low ,high):\n",
    "    pivot = arr[low]\n",
    "    i = low + 1\n",
    "    j = high \n",
    "    while (i <= j):\n",
    "        if (arr[i] <= pivot):\n",
    "            i = i + 1\n",
    "        elif (arr[j] > pivot):\n",
    "            j = j - 1\n",
    "        else:\n",
    "            swap(arr,i,j)\n",
    "    swap(arr,low,j)\n",
    "    return j\n",
    "arr = [23,45,1,2,30,67,98]\n",
    "n = len(arr)-1\n",
    "quickSort(arr,0,n)\n",
    "print(arr)"
   ]
  }
 ],
 "metadata": {
  "kernelspec": {
   "display_name": "Python 3",
   "language": "python",
   "name": "python3"
  },
  "language_info": {
   "codemirror_mode": {
    "name": "ipython",
    "version": 3
   },
   "file_extension": ".py",
   "mimetype": "text/x-python",
   "name": "python",
   "nbconvert_exporter": "python",
   "pygments_lexer": "ipython3",
   "version": "3.10.12"
  }
 },
 "nbformat": 4,
 "nbformat_minor": 2
}
