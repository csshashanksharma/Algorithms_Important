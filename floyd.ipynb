{
 "cells": [
  {
   "cell_type": "code",
   "execution_count": 11,
   "metadata": {},
   "outputs": [
    {
     "name": "stdout",
     "output_type": "stream",
     "text": [
      "0 3 7 5  \n",
      "2 0 6 4  \n",
      "3 1 0 5  \n",
      "5 3 2 0  \n"
     ]
    }
   ],
   "source": [
    "INF = float('inf')\n",
    "V = 4\n",
    "def create_dist_matr(A):\n",
    "    n = len(A)\n",
    "    D = [[0 if i ==j else INF if A[i][j] == 0 else A[i][j] for j in range (n)]for i in range(n)]\n",
    "    return D\n",
    "\n",
    "def floyds(A):\n",
    "    dist = create_dist_matr(A)\n",
    "    for k in range (V):\n",
    "        for i in range (V):\n",
    "            for j in range(V):\n",
    "                dist[i][j] = min(dist[i][j] , dist[i][k]+dist[k][j])\n",
    "    printSol(dist)\n",
    "def printSol(dist):\n",
    "    for i in range(V):\n",
    "        for j in range(V):\n",
    "            if dist[i][j] == INF :\n",
    "                print(\"INF\" , end = \" \")\n",
    "            else:\n",
    "                print(dist[i][j] ,end = \" \")\n",
    "        print(\" \")\n",
    "\n",
    "adj_matrix = [  \n",
    "    [0, 3, 0, 5],  \n",
    "    [2, 0, 0, 4],  \n",
    "    [0, 1, 0, 0],  \n",
    "    [0, 0, 2, 0]  \n",
    "]\n",
    "floyds(adj_matrix)"
   ]
  },
  {
   "cell_type": "code",
   "execution_count": 6,
   "metadata": {},
   "outputs": [
    {
     "data": {
      "text/plain": [
       "[[1, 0, 0, 0, 0],\n",
       " [1, 1, 0, 0, 0],\n",
       " [1, 2, 1, 0, 0],\n",
       " [1, 3, 3, 1, 0],\n",
       " [1, 4, 6, 4, 1],\n",
       " [1, 5, 10, 10, 5],\n",
       " [1, 6, 15, 20, 15]]"
      ]
     },
     "execution_count": 6,
     "metadata": {},
     "output_type": "execute_result"
    }
   ],
   "source": [
    "n = 6\n",
    "k = 4\n",
    "c = [[0 for i in range (k+1)] for j in range(n+1)]\n",
    "def binomialCoeff(n,k):\n",
    "    for i in range(n+1):\n",
    "        for j in range(min(i,k) +1 ):\n",
    "            if i == j or j == 0:\n",
    "                c[i][j] = 1\n",
    "            else:\n",
    "                c[i][j] = c[i-1][j] + c[i-1][j-1]\n",
    "    return c\n",
    "binomialCoeff(n,k)"
   ]
  },
  {
   "cell_type": "code",
   "execution_count": null,
   "metadata": {},
   "outputs": [],
   "source": []
  }
 ],
 "metadata": {
  "kernelspec": {
   "display_name": "Python 3",
   "language": "python",
   "name": "python3"
  },
  "language_info": {
   "codemirror_mode": {
    "name": "ipython",
    "version": 3
   },
   "file_extension": ".py",
   "mimetype": "text/x-python",
   "name": "python",
   "nbconvert_exporter": "python",
   "pygments_lexer": "ipython3",
   "version": "3.10.12"
  }
 },
 "nbformat": 4,
 "nbformat_minor": 2
}
