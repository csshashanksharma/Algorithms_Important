{
 "cells": [
  {
   "cell_type": "code",
   "execution_count": 1,
   "metadata": {},
   "outputs": [
    {
     "name": "stdout",
     "output_type": "stream",
     "text": [
      "<itertools.permutations object at 0x73bfbc10fe70>\n",
      "80\n"
     ]
    }
   ],
   "source": [
    "from sys import maxsize\n",
    "from itertools import permutations\n",
    "\n",
    "V = 4\n",
    "def travellingSalesMen(graph , s):\n",
    "    vertex = []\n",
    "    for i in range(V):\n",
    "        if i != s:\n",
    "            vertex.append(i)\n",
    "    minPath = maxsize\n",
    "    next_permutations = permutations(vertex)\n",
    "    print(next_permutations)\n",
    "    for i in next_permutations:\n",
    "        current_wt = 0\n",
    "        k = s\n",
    "        for j in i:\n",
    "            current_wt  = current_wt + graph[k][j]\n",
    "            k = j\n",
    "        current_wt = current_wt + graph[k][s]\n",
    "        minPath = min(minPath , current_wt)\n",
    "    return minPath\n",
    "if __name__ == \"__main__\":\n",
    "\tgraph = [[0, 10, 15, 20], [10, 0, 35, 25],\n",
    "\t\t\t[15, 35, 0, 30], [20, 25, 30, 0]]\n",
    "\ts = 0\n",
    "\tprint(travellingSalesMen(graph, s))\n"
   ]
  },
  {
   "cell_type": "code",
   "execution_count": 2,
   "metadata": {},
   "outputs": [
    {
     "name": "stdout",
     "output_type": "stream",
     "text": [
      "80\n"
     ]
    }
   ],
   "source": [
    "from sys import maxsize\n",
    "from itertools import permutations\n",
    "\n",
    "V = 4\n",
    "def tsp(graph , s):\n",
    "    vertex = []\n",
    "    for i in range(V):\n",
    "        if i != s:\n",
    "            vertex.append(i)\n",
    "    minPath = maxsize\n",
    "    next_permutations = permutations(vertex)\n",
    "    for i in next_permutations:\n",
    "        ct_wt = 0\n",
    "        k = s\n",
    "        for j in i:\n",
    "            ct_wt = ct_wt + graph[k][j]\n",
    "            k = j\n",
    "        ct_wt = ct_wt + graph[k][s]\n",
    "        minPath = min(minPath ,ct_wt)\n",
    "    return minPath\n",
    "if __name__ == '__main__':\n",
    "    graph = [[0, 10, 15, 20], [10, 0, 35, 25],\n",
    "\t\t\t[15, 35, 0, 30], [20, 25, 30, 0]]\n",
    "    s = 0\n",
    "    result = tsp(graph ,s)\n",
    "    print(result)"
   ]
  },
  {
   "cell_type": "code",
   "execution_count": null,
   "metadata": {},
   "outputs": [],
   "source": []
  }
 ],
 "metadata": {
  "kernelspec": {
   "display_name": "Python 3",
   "language": "python",
   "name": "python3"
  },
  "language_info": {
   "codemirror_mode": {
    "name": "ipython",
    "version": 3
   },
   "file_extension": ".py",
   "mimetype": "text/x-python",
   "name": "python",
   "nbconvert_exporter": "python",
   "pygments_lexer": "ipython3",
   "version": "3.10.12"
  }
 },
 "nbformat": 4,
 "nbformat_minor": 2
}
